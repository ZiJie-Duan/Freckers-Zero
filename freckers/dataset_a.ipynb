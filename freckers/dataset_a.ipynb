{
 "cells": [
  {
   "cell_type": "code",
   "execution_count": 10,
   "metadata": {},
   "outputs": [],
   "source": [
    "import torch\n",
    "from torch.utils.data import ConcatDataset\n",
    "from typing import List\n",
    "from model import FreckerDataSet\n",
    "\n",
    "def load_frecker_datasets(dataset_base_dir: str, iter_now: int, training_dataset_cross: int) -> ConcatDataset:\n",
    "    \"\"\"\n",
    "    加载并合并多个Frecker数据集文件\n",
    "    \n",
    "    Args:\n",
    "        dataset_base_dir (str): 数据集基础目录\n",
    "        iter_now (int): 当前迭代次数\n",
    "        training_dataset_cross (int): 跨数据集训练的数量\n",
    "        \n",
    "    Returns:\n",
    "        ConcatDataset: 合并后的数据集\n",
    "    \"\"\"\n",
    "    datafiles = []\n",
    "    if iter_now == 0:\n",
    "        datafiles.append(f\"{dataset_base_dir}/1.h5\")\n",
    "    else:\n",
    "        for i in range(\n",
    "            max(1, iter_now - training_dataset_cross),\n",
    "            iter_now + 2\n",
    "        ):\n",
    "            datafiles.append(f\"{dataset_base_dir}/{i}.h5\")\n",
    "    \n",
    "    datasets = [FreckerDataSet(x) for x in datafiles]\n",
    "    dataset = ConcatDataset(datasets)\n",
    "    print(f\"加载了 {len(dataset)} 个样本\")\n",
    "    \n",
    "    return dataset"
   ]
  },
  {
   "cell_type": "code",
   "execution_count": 14,
   "metadata": {},
   "outputs": [
    {
     "name": "stdout",
     "output_type": "stream",
     "text": [
      "加载了 361309 个样本\n"
     ]
    }
   ],
   "source": [
    "\n",
    "# 加载数据集\n",
    "dataset = load_frecker_datasets(\n",
    "    dataset_base_dir=\"/mnt/cdata/data-1/\",\n",
    "    iter_now=142,\n",
    "    training_dataset_cross=20\n",
    ")\n",
    "\n",
    "# 之后可以根据需要自行分割数据集\n",
    "train_size = int(0.8 * len(dataset))\n",
    "train_dataset = torch.utils.data.Subset(dataset, range(train_size))\n",
    "val_dataset = torch.utils.data.Subset(dataset, range(train_size, len(dataset)))"
   ]
  },
  {
   "cell_type": "code",
   "execution_count": null,
   "metadata": {},
   "outputs": [],
   "source": []
  }
 ],
 "metadata": {
  "kernelspec": {
   "display_name": "fzero",
   "language": "python",
   "name": "python3"
  },
  "language_info": {
   "codemirror_mode": {
    "name": "ipython",
    "version": 3
   },
   "file_extension": ".py",
   "mimetype": "text/x-python",
   "name": "python",
   "nbconvert_exporter": "python",
   "pygments_lexer": "ipython3",
   "version": "3.12.3"
  }
 },
 "nbformat": 4,
 "nbformat_minor": 2
}
